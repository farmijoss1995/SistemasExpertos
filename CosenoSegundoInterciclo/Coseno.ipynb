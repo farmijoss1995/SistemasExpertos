{
 "cells": [
  {
   "cell_type": "code",
   "execution_count": 3,
   "id": "778d8e95",
   "metadata": {},
   "outputs": [
    {
     "ename": "NameError",
     "evalue": "name 'conn' is not defined",
     "output_type": "error",
     "traceback": [
      "\u001b[1;31m---------------------------------------------------------------------------\u001b[0m",
      "\u001b[1;31mNameError\u001b[0m                                 Traceback (most recent call last)",
      "\u001b[1;32m<ipython-input-3-80c6f3739e63>\u001b[0m in \u001b[0;36m<module>\u001b[1;34m\u001b[0m\n\u001b[0;32m    140\u001b[0m \u001b[0mwindow\u001b[0m\u001b[1;33m.\u001b[0m\u001b[0mmainloop\u001b[0m\u001b[1;33m(\u001b[0m\u001b[1;33m)\u001b[0m\u001b[1;33m\u001b[0m\u001b[1;33m\u001b[0m\u001b[0m\n\u001b[0;32m    141\u001b[0m \u001b[1;33m\u001b[0m\u001b[0m\n\u001b[1;32m--> 142\u001b[1;33m \u001b[0mconn\u001b[0m\u001b[1;33m.\u001b[0m\u001b[0mcommit\u001b[0m\u001b[1;33m(\u001b[0m\u001b[1;33m)\u001b[0m\u001b[1;33m\u001b[0m\u001b[1;33m\u001b[0m\u001b[0m\n\u001b[0m",
      "\u001b[1;31mNameError\u001b[0m: name 'conn' is not defined"
     ]
    }
   ],
   "source": [
    "from neo4j import GraphDatabase\n",
    "username = ('neo4j')\n",
    "password = ('12345')\n",
    "uri = \"bolt://localhost:7687\"\n",
    "driver = GraphDatabase.driver(uri, auth=(username, password))\n",
    "session2= driver.session()\n",
    "cocina =session2.run(\"CREATE (french:Cuisine {name:'French'}), (italian:Cuisine {name:'Italian'}),  (indian:Cuisine {name:'Indian'}), (lebanese:Cuisine {name:'Lebanese'}), (portuguese:Cuisine {name:'Portuguese'}),(british:Cuisine {name:'British'}),  (mauritian:Cuisine {name:'Mauritian'})\") \n",
    "persona = session2.run(\"CREATE (zhen:Person {name: 'Zhen'}), (praveena:Person {name: 'Praveena'}), (michael:Person {name:'Michael'}), (arya:Person {name: 'Arya'}), (karin:Person {name: 'Karin'})\")\n",
    "relacion = session2.run(\"CREATE (praveena)-[:LIKES {score: 9}]->(indian),  (praveena)-[:LIKES {score: 7}]->(portuguese), (praveena)-[:LIKES {score: 8}]->(british), (praveena)-[:LIKES {score: 1}]->(mauritian)\")\n",
    "relacion2= session2.run (\"CREATE (zhen)-[:LIKES {score: 10}]->(french), (zhen)-[:LIKES {score: 6}]->(indian), (zhen)-[:LIKES {score: 2}]->(british)\")\n",
    "relacion3= session2.run (\" CREATE (michael)-[:LIKES {score: 8}]->(french), (michael)-[:LIKES {score: 7}]->(italian), (michael)-[:LIKES {score: 9}]->(indian), (michael)-[:LIKES {score: 3}]->(portuguese)\")\n",
    "relacion4 = session2.run (\" CREATE (arya)-[:LIKES {score: 10}]->(lebanese),  (arya)-[:LIKES {score: 10}]->(italian),  (arya)-[:LIKES {score: 7}]->(portuguese),  (arya)-[:LIKES {score: 9}]->(mauritian)\")\n",
    "relacion5 = session2.run (\" CREATE (karin)-[:LIKES {score: 9}]->(lebanese), (karin)-[:LIKES {score: 7}]->(italian), (karin)-[:LIKES {score: 10}]->(portuguese)\")\n",
    "                    \n",
    "session2.close()\n",
    "driver.close()"
   ]
  },
  {
   "cell_type": "code",
   "execution_count": null,
   "id": "d39815f6",
   "metadata": {},
   "outputs": [],
   "source": [
    "#obtener similitud entre los gustos de la persona \n",
    "gustos = session2.run(\" MATCH (p:Person), (c:Cuisine)OPTIONAL MATCH (p)-[likes:LIKES]->(c) WITH {item:id(p), weights: collect(coalesce(likes.score, gds.util.NaN()))} AS userData WITH collect(userData) AS data CALL gds.alpha.similarity.cosine.write({data: data,topK: 1, similarityCutoff: 0.1}) YIELD nodes, similarityPairs, writeRelationshipType, writeProperty, min, max, mean, stdDev, p25, p50, p75, p90, p95, p99, p999, p100 RETURN nodes, similarityPairs, writeRelationshipType, writeProperty, min, max, mean, p95\")\n",
    "print (gustos)\n",
    "for c in gustos:\n",
    "    print (c, 'ln')\n",
    "print (' ')\n",
    "print (' ')\n",
    "print (' ')\n",
    "similitudGustos = session2.run (\" MATCH (p:Person), (c:Cuisine)  OPTIONAL MATCH (p)-[likes:LIKES]->(c) WITH {item:id(p), weights: collect(coalesce(likes.score, gds.util.NaN()))} AS userData  WITH collect(userData) AS data  CALL gds.alpha.similarity.cosine.stream({data: data})  YIELD item1, item2, count1, count2, similarity  RETURN gds.util.asNode(item1).name AS from, gds.util.asNode(item2).name AS to, similarity  ORDER BY similarity DESC \")\n",
    "for c2 in similitudGustos:\n",
    "    print (c2, \"\\n\")\n",
    "\n",
    "\n",
    "totalsimilitud= session2.run(\" MATCH (p:Person), (c:Cuisine)  OPTIONAL MATCH (p)-[likes:LIKES]->(c)  WITH {item:id(p), weights: collect(coalesce(likes.score, gds.util.NaN()))} AS userData   WITH collect(userData) AS data  CALL gds.alpha.similarity.cosine.write({ data: data,topK: 1,similarityCutoff: 0.1})  YIELD nodes, similarityPairs, writeRelationshipType, writeProperty, min, max, mean, stdDev, p25, p50, p75, p90, p95, p99, p999, p100  RETURN nodes, similarityPairs, writeRelationshipType, writeProperty, min, max, mean, p95\")\n",
    "for re in   totalsimilitud:                      \n",
    "    print (re, \"\\n\")"
   ]
  }
 ],
 "metadata": {
  "kernelspec": {
   "display_name": "Python 3",
   "language": "python",
   "name": "python3"
  },
  "language_info": {
   "codemirror_mode": {
    "name": "ipython",
    "version": 3
   },
   "file_extension": ".py",
   "mimetype": "text/x-python",
   "name": "python",
   "nbconvert_exporter": "python",
   "pygments_lexer": "ipython3",
   "version": "3.8.5"
  }
 },
 "nbformat": 4,
 "nbformat_minor": 5
}
