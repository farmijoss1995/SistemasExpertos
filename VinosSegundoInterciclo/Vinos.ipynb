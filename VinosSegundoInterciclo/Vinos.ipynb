{
 "cells": [
  {
   "cell_type": "code",
   "execution_count": 1,
   "id": "f382692c",
   "metadata": {},
   "outputs": [
    {
     "ename": "ModuleNotFoundError",
     "evalue": "No module named 'flask'",
     "output_type": "error",
     "traceback": [
      "\u001b[1;31m---------------------------------------------------------------------------\u001b[0m",
      "\u001b[1;31mModuleNotFoundError\u001b[0m                       Traceback (most recent call last)",
      "\u001b[1;32m<ipython-input-1-a2d9ef7e2352>\u001b[0m in \u001b[0;36m<module>\u001b[1;34m\u001b[0m\n\u001b[1;32m----> 1\u001b[1;33m \u001b[1;32mfrom\u001b[0m \u001b[0mflask\u001b[0m \u001b[1;32mimport\u001b[0m \u001b[0mFlask\u001b[0m\u001b[1;33m,\u001b[0m \u001b[0mrender_template\u001b[0m\u001b[1;33m,\u001b[0m \u001b[0mrequest\u001b[0m\u001b[1;33m\u001b[0m\u001b[1;33m\u001b[0m\u001b[0m\n\u001b[0m\u001b[0;32m      2\u001b[0m \u001b[1;33m\u001b[0m\u001b[0m\n\u001b[0;32m      3\u001b[0m \u001b[0mapp\u001b[0m \u001b[1;33m=\u001b[0m \u001b[0mFlask\u001b[0m\u001b[1;33m(\u001b[0m\u001b[0m__name__\u001b[0m\u001b[1;33m)\u001b[0m\u001b[1;33m\u001b[0m\u001b[1;33m\u001b[0m\u001b[0m\n\u001b[0;32m      4\u001b[0m \u001b[1;33m\u001b[0m\u001b[0m\n\u001b[0;32m      5\u001b[0m \u001b[1;33m\u001b[0m\u001b[0m\n",
      "\u001b[1;31mModuleNotFoundError\u001b[0m: No module named 'flask'"
     ]
    }
   ],
   "source": [
    "from flask import Flask, render_template, request\n",
    "\n",
    "app = Flask(__name__)\n",
    "\n",
    "\n",
    "def calcular_similitud_jaccard(valores_vino):\n",
    "    \"\"\"\n",
    "    Metodo que recoree el data set y calcula la similitud con el nuevo vino\n",
    "    :param valores_vino:\n",
    "    :return:\n",
    "    \"\"\"\n",
    "    def calculo_similitud(calidad, set_valores_vino):\n",
    "        \"\"\"\n",
    "        Reliza el calculo de similitud de jaccard\n",
    "        :param calidad:\n",
    "        :param set_valores_vino:\n",
    "        :return:\n",
    "        \"\"\"\n",
    "        return {\n",
    "            'calidad': calidad,\n",
    "            'similitud': len(set_valores_vino.intersection(valores_vino)) /\n",
    "                         len(set_valores_vino.union(valores_vino))\n",
    "        }\n",
    "\n",
    "    lista_calculada = []\n",
    "    with open(\"C:/Users/narcisa/Documents/9no/deberes quisi/DEBERES-SE-IA/SE/Vinos_Rojos/winequaliy-red.csv\", \"r\") as f:\n",
    "        valores_vino_data = f.readline()\n",
    "        while valores_vino_data:\n",
    "            valores_vino_data = f.readline()\n",
    "            propiedades_vino = valores_vino_data.split(\";\")\n",
    "            calidad = propiedades_vino[-1:][0].replace(\"\\n\", \"\")\n",
    "            lista_calculada.append(calculo_similitud(calidad, set(map(float, propiedades_vino[:-1]))))\n",
    "    # Retorna las similitudes y su calidad\n",
    "    return sorted(lista_calculada, key=lambda item: item['similitud'], reverse=True)\n",
    "\n",
    "\n",
    "@app.route('/calculo_similitud', methods=['POST'])\n",
    "def calcular_calidad():\n",
    "    valores_vino = list(map(float, request.form.values()))\n",
    "    return render_template(\"C:/Users/narcisa/Documents/9no/deberes quisi/DEBERES-SE-IA/SE/Vinos_Rojos/index.html\", valores=valores_vino, lista=calcular_similitud_jaccard(valores_vino))\n",
    "\n",
    "\n",
    "@app.route('/')\n",
    "def hello_world():\n",
    "    return render_template(\"C:/Users/narcisa/Documents/9no/deberes quisi/DEBERES-SE-IA/SE/Vinos_Rojos/index.html\")\n",
    "\n",
    "\n",
    "if __name__ == '__main__':\n",
    "    app.run(port=80)"
   ]
  },
  {
   "cell_type": "code",
   "execution_count": null,
   "id": "0c541ed0",
   "metadata": {},
   "outputs": [],
   "source": []
  }
 ],
 "metadata": {
  "kernelspec": {
   "display_name": "Python 3",
   "language": "python",
   "name": "python3"
  },
  "language_info": {
   "codemirror_mode": {
    "name": "ipython",
    "version": 3
   },
   "file_extension": ".py",
   "mimetype": "text/x-python",
   "name": "python",
   "nbconvert_exporter": "python",
   "pygments_lexer": "ipython3",
   "version": "3.8.5"
  }
 },
 "nbformat": 4,
 "nbformat_minor": 5
}
