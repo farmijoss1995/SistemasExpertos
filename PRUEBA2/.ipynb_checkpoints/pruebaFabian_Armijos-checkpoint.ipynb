{
 "cells": [
  {
   "cell_type": "code",
   "execution_count": 1,
   "id": "78dfe2c9",
   "metadata": {},
   "outputs": [
    {
     "ename": "CLIPSError",
     "evalue": "",
     "output_type": "error",
     "traceback": [
      "\u001b[1;31m---------------------------------------------------------------------------\u001b[0m",
      "\u001b[1;31mCLIPSError\u001b[0m                                Traceback (most recent call last)",
      "\u001b[1;32m<ipython-input-1-59d36d081c92>\u001b[0m in \u001b[0;36m<module>\u001b[1;34m\u001b[0m\n\u001b[0;32m      2\u001b[0m \u001b[1;33m\u001b[0m\u001b[0m\n\u001b[0;32m      3\u001b[0m \u001b[0menvironment\u001b[0m \u001b[1;33m=\u001b[0m \u001b[0mEnvironment\u001b[0m\u001b[1;33m(\u001b[0m\u001b[1;33m)\u001b[0m\u001b[1;33m\u001b[0m\u001b[1;33m\u001b[0m\u001b[0m\n\u001b[1;32m----> 4\u001b[1;33m \u001b[0menvironment\u001b[0m\u001b[1;33m.\u001b[0m\u001b[0mload\u001b[0m\u001b[1;33m(\u001b[0m\u001b[1;34m'prueba2.clp'\u001b[0m\u001b[1;33m)\u001b[0m\u001b[1;33m\u001b[0m\u001b[1;33m\u001b[0m\u001b[0m\n\u001b[0m\u001b[0;32m      5\u001b[0m \u001b[0menvironment\u001b[0m\u001b[1;33m.\u001b[0m\u001b[0mreset\u001b[0m\u001b[1;33m(\u001b[0m\u001b[1;33m)\u001b[0m\u001b[1;33m\u001b[0m\u001b[1;33m\u001b[0m\u001b[0m\n\u001b[0;32m      6\u001b[0m \u001b[0menvironment\u001b[0m\u001b[1;33m.\u001b[0m\u001b[0mrun\u001b[0m\u001b[1;33m(\u001b[0m\u001b[1;33m)\u001b[0m\u001b[1;33m\u001b[0m\u001b[1;33m\u001b[0m\u001b[0m\n",
      "\u001b[1;32mc:\\users\\usuario\\appdata\\local\\programs\\python\\python38\\lib\\site-packages\\clips\\environment.py\u001b[0m in \u001b[0;36mload\u001b[1;34m(self, path, binary)\u001b[0m\n\u001b[0;32m    117\u001b[0m             \u001b[0mret\u001b[0m \u001b[1;33m=\u001b[0m \u001b[0mlib\u001b[0m\u001b[1;33m.\u001b[0m\u001b[0mLoad\u001b[0m\u001b[1;33m(\u001b[0m\u001b[0mself\u001b[0m\u001b[1;33m.\u001b[0m\u001b[0m_env\u001b[0m\u001b[1;33m,\u001b[0m \u001b[0mpath\u001b[0m\u001b[1;33m.\u001b[0m\u001b[0mencode\u001b[0m\u001b[1;33m(\u001b[0m\u001b[1;33m)\u001b[0m\u001b[1;33m)\u001b[0m\u001b[1;33m\u001b[0m\u001b[1;33m\u001b[0m\u001b[0m\n\u001b[0;32m    118\u001b[0m             \u001b[1;32mif\u001b[0m \u001b[0mret\u001b[0m \u001b[1;33m!=\u001b[0m \u001b[0mlib\u001b[0m\u001b[1;33m.\u001b[0m\u001b[0mLE_NO_ERROR\u001b[0m\u001b[1;33m:\u001b[0m\u001b[1;33m\u001b[0m\u001b[1;33m\u001b[0m\u001b[0m\n\u001b[1;32m--> 119\u001b[1;33m                 \u001b[1;32mraise\u001b[0m \u001b[0mCLIPSError\u001b[0m\u001b[1;33m(\u001b[0m\u001b[0mself\u001b[0m\u001b[1;33m.\u001b[0m\u001b[0m_env\u001b[0m\u001b[1;33m,\u001b[0m \u001b[0mcode\u001b[0m\u001b[1;33m=\u001b[0m\u001b[0mret\u001b[0m\u001b[1;33m)\u001b[0m\u001b[1;33m\u001b[0m\u001b[1;33m\u001b[0m\u001b[0m\n\u001b[0m\u001b[0;32m    120\u001b[0m \u001b[1;33m\u001b[0m\u001b[0m\n\u001b[0;32m    121\u001b[0m     \u001b[1;32mdef\u001b[0m \u001b[0msave\u001b[0m\u001b[1;33m(\u001b[0m\u001b[0mself\u001b[0m\u001b[1;33m,\u001b[0m \u001b[0mpath\u001b[0m\u001b[1;33m:\u001b[0m \u001b[0mstr\u001b[0m\u001b[1;33m,\u001b[0m \u001b[0mbinary\u001b[0m\u001b[1;33m=\u001b[0m\u001b[1;32mFalse\u001b[0m\u001b[1;33m)\u001b[0m\u001b[1;33m:\u001b[0m\u001b[1;33m\u001b[0m\u001b[1;33m\u001b[0m\u001b[0m\n",
      "\u001b[1;31mCLIPSError\u001b[0m: "
     ]
    }
   ],
   "source": [
    "from clips import Environment, Symbol\n",
    "\n",
    "environment = Environment()\n",
    "environment.load('pruebaFabianArmijos.clp')\n",
    "environment.reset()\n",
    "environment.run()\n",
    "\n",
    "print(\"BIENVENIDO \\n\")\n",
    "\n",
    "a=int(input(\"Ingrese el numero de sintomas del paciente \\n\"))\n",
    "\n",
    "i=0\n",
    "o=0\n",
    "u=0\n",
    "p=0\n",
    "\n",
    "for n in range (a):\n",
    "        r1= input('Ingrese los sintomas del paciente\\n')\n",
    "        r1=r1.replace(\" \",\"-\")\n",
    "        environment.assert_string('(respuesta1 '+r1+')')\n",
    "        environment.run()\n",
    "\n",
    "print(\"\")\n",
    "\n",
    "for fact in environment.facts():\n",
    "    if fact.template.name == 'es-CesariaAntemano':\n",
    "        print('Resultado: '+'La Paciente debe realizarse una cesare prevista')\n",
    "        i=1\n",
    "    if fact.template.name == 'es-Cesariaimprovisa':\n",
    "        print('Resultado: '+'La paciente debe realizarse una cesarea improvisa')\n",
    "        i=1\n",
    "    elif fact.template.name == 'es-incisionUmbilico':\n",
    "        print('Resultado: '+'se debe realizar una incision Umbilico')\n",
    "        o=1\n",
    "    elif fact.template.name == 'es-trasnversalBaja':\n",
    "        print('Resultado: '+'cesarea del tipo trasnversal baja')\n",
    "        u=1\n",
    "    elif fact.template.name == 'es-JoelCoell':\n",
    "        print('Resultado: '+'cesarea del tipo Joel Coell')\n",
    "        u=1\n",
    "    \n",
    "\n",
    "if(u==1 or o==1 or i==1):\n",
    "    print()\n",
    "else:\n",
    "    print(\"No se reconoce los sintomas del paciente.\")"
   ]
  },
  {
   "cell_type": "code",
   "execution_count": null,
   "id": "a8165653",
   "metadata": {},
   "outputs": [],
   "source": []
  },
  {
   "cell_type": "code",
   "execution_count": null,
   "id": "b98d50f1",
   "metadata": {},
   "outputs": [],
   "source": []
  }
 ],
 "metadata": {
  "kernelspec": {
   "display_name": "Python 3",
   "language": "python",
   "name": "python3"
  },
  "language_info": {
   "codemirror_mode": {
    "name": "ipython",
    "version": 3
   },
   "file_extension": ".py",
   "mimetype": "text/x-python",
   "name": "python",
   "nbconvert_exporter": "python",
   "pygments_lexer": "ipython3",
   "version": "3.8.5"
  }
 },
 "nbformat": 4,
 "nbformat_minor": 5
}
