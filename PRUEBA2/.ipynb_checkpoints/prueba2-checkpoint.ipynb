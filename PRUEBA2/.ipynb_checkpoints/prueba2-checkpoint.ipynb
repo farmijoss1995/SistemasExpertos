{
 "cells": [
  {
   "cell_type": "code",
   "execution_count": null,
   "id": "78dfe2c9",
   "metadata": {},
   "outputs": [
    {
     "name": "stdout",
     "output_type": "stream",
     "text": [
      "BIENVENIDO \n",
      "\n"
     ]
    }
   ],
   "source": [
    "from clips import Environment, Symbol\n",
    "\n",
    "environment = Environment()\n",
    "environment.load('prueba2.clp')\n",
    "environment.reset()\n",
    "environment.run()\n",
    "\n",
    "print(\"BIENVENIDO \\n\")\n",
    "\n",
    "a=int(input(\"Ingrese el numero de sintomas del paciente \\n\"))\n",
    "\n",
    "i=0\n",
    "o=0\n",
    "u=0\n",
    "p=0\n",
    "\n",
    "for n in range (a):\n",
    "        r1= input('Ingrese los sintomas del paciente\\n')\n",
    "        r1=r1.replace(\" \",\"-\")\n",
    "        environment.assert_string('(respuesta1 '+r1+')')\n",
    "        environment.run()\n",
    "\n",
    "print(\"\")\n",
    "\n",
    "for fact in environment.facts():\n",
    "    if fact.template.name == 'es-CesariaAntemano':\n",
    "        print('Resultado: '+'La Paciente debe realizarse una cesare prevista')\n",
    "        i=1\n",
    "    if fact.template.name == 'es-Cesariaimprovisa':\n",
    "        print('Resultado: '+'La paciente debe realizarse una cesarea improvisa')\n",
    "        i=1\n",
    "    elif fact.template.name == 'es-incisionUmbilico':\n",
    "        print('Resultado: '+'se debe realizar una incision Umbilico')\n",
    "        o=1\n",
    "    elif fact.template.name == 'es-trasnversalBaja':\n",
    "        print('Resultado: '+'cesarea del tipo trasnversal baja')\n",
    "        u=1\n",
    "    elif fact.template.name == 'es-JoelCoell':\n",
    "        print('Resultado: '+'cesarea del tipo Joel Coell')\n",
    "        u=1\n",
    "    \n",
    "\n",
    "if(u==1 or o==1 or i==1):\n",
    "    print()\n",
    "else:\n",
    "    print(\"No se reconoce los sintomas del paciente.\")"
   ]
  },
  {
   "cell_type": "code",
   "execution_count": null,
   "id": "a8165653",
   "metadata": {},
   "outputs": [],
   "source": []
  },
  {
   "cell_type": "code",
   "execution_count": null,
   "id": "b98d50f1",
   "metadata": {},
   "outputs": [],
   "source": []
  }
 ],
 "metadata": {
  "kernelspec": {
   "display_name": "Python 3",
   "language": "python",
   "name": "python3"
  },
  "language_info": {
   "codemirror_mode": {
    "name": "ipython",
    "version": 3
   },
   "file_extension": ".py",
   "mimetype": "text/x-python",
   "name": "python",
   "nbconvert_exporter": "python",
   "pygments_lexer": "ipython3",
   "version": "3.8.5"
  }
 },
 "nbformat": 4,
 "nbformat_minor": 5
}
